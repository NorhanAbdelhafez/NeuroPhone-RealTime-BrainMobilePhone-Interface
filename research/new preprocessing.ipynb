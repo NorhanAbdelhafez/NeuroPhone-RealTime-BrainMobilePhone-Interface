{
  "nbformat": 4,
  "nbformat_minor": 0,
  "metadata": {
    "colab": {
      "provenance": []
    },
    "kernelspec": {
      "name": "python3",
      "display_name": "Python 3"
    },
    "language_info": {
      "name": "python"
    }
  },
  "cells": [
    {
      "cell_type": "markdown",
      "source": [
        "# Installation"
      ],
      "metadata": {
        "id": "sUC2IUmsm1b-"
      }
    },
    {
      "cell_type": "code",
      "execution_count": null,
      "metadata": {
        "id": "i8e_BQA70TeX"
      },
      "outputs": [],
      "source": [
        "!!pip install -q MOABB"
      ]
    },
    {
      "cell_type": "code",
      "execution_count": null,
      "metadata": {
        "id": "NkJNdnQ_xFOm"
      },
      "outputs": [],
      "source": [
        "!pip install pywd"
      ]
    },
    {
      "cell_type": "code",
      "execution_count": 3,
      "metadata": {
        "id": "ssYTw8Yy-B9W"
      },
      "outputs": [],
      "source": [
        "import numpy as np\n",
        "import scipy.signal\n",
        "import scipy.io as sio\n",
        "import matplotlib\n",
        "from matplotlib import pyplot as plt\n",
        "from sklearn.discriminant_analysis import LinearDiscriminantAnalysis as LDA\n",
        "from sklearn.preprocessing import MinMaxScaler\n",
        "import numpy as np\n",
        "import pandas as pd\n",
        "from sklearn.model_selection import GridSearchCV\n",
        "from sklearn.pipeline import make_pipeline\n",
        "from sklearn.svm import SVC\n",
        "import mne\n",
        "from pywt import wavedec \n",
        "\n",
        "import pandas as pd\n",
        "from sklearn.model_selection import GridSearchCV\n",
        "from sklearn.pipeline import make_pipeline\n",
        "from sklearn.svm import SVC\n",
        "from sklearn.metrics import accuracy_score\n",
        "from sklearn import svm\n",
        "from sklearn.tree import DecisionTreeClassifier\n",
        "from sklearn.metrics import accuracy_score,precision_score,recall_score\n",
        "# import mlflow\n",
        "# import mlflow.sklearn"
      ]
    },
    {
      "cell_type": "code",
      "execution_count": 4,
      "metadata": {
        "id": "w7orvxzmBVsf"
      },
      "outputs": [],
      "source": [
        "import moabb\n",
        "from moabb.datasets import EPFLP300, utils\n",
        "from moabb.evaluations import CrossSessionEvaluation\n",
        "from moabb.paradigms import LeftRightImagery\n",
        "from moabb.pipelines.features import LogVariance\n",
        "from mne.filter import construct_iir_filter\n",
        "moabb.set_log_level(\"info\")\n",
        "\n",
        "\n",
        "import math\n",
        "from sklearn.metrics import confusion_matrix"
      ]
    },
    {
      "cell_type": "code",
      "source": [
        "import datetime as dt\n",
        "import glob\n",
        "import os\n",
        "import zipfile\n",
        "\n",
        "import mne\n",
        "import numpy as np\n",
        "from mne.channels import make_standard_montage\n",
        "from scipy.io import loadmat\n",
        "\n",
        "from moabb.datasets import download as dl\n",
        "from moabb.datasets.base import BaseDataset"
      ],
      "metadata": {
        "id": "xf8R73gcWV5B"
      },
      "execution_count": 5,
      "outputs": []
    },
    {
      "cell_type": "code",
      "source": [
        "from google.colab import drive\n",
        "drive.mount('/content/drive')"
      ],
      "metadata": {
        "colab": {
          "base_uri": "https://localhost:8080/"
        },
        "id": "WJnLBNYw8cCt",
        "outputId": "ce36b8c4-f23a-4caa-f9c2-e0f8862cddbb"
      },
      "execution_count": 6,
      "outputs": [
        {
          "output_type": "stream",
          "name": "stdout",
          "text": [
            "Mounted at /content/drive\n"
          ]
        }
      ]
    },
    {
      "cell_type": "markdown",
      "source": [
        "# Trails"
      ],
      "metadata": {
        "id": "O47yPWt0nKHB"
      }
    },
    {
      "cell_type": "markdown",
      "source": [
        "## **Starting clean**\n"
      ],
      "metadata": {
        "id": "NjT65nooMmu_"
      }
    },
    {
      "cell_type": "code",
      "source": [
        "class Normalize:\n",
        "    def __init__(self):\n",
        "        self.min = []    # minimal amplitude for all EEG channels\n",
        "        self.max = []    # maximal amplitude for all EEG channels\n",
        "        self.mean = []   # mean amplitude for all EEG channels\n",
        "        self.std = []    # standard deviation for all EEG channels\n",
        "        self.method = '' # normalization method \"minmax\" or \"z-score\"\n",
        "\n",
        "    def apply(self,n, x):\n",
        "        # normalization procedure for EEG data\n",
        "        # uses minima and maxima or means and standard deviations stored in\n",
        "        # the object n\n",
        "\n",
        "        n_channels, n_samples, n_trials = x.shape\n",
        "        x = x.reshape(n_channels, n_samples * n_trials)\n",
        "\n",
        "        if n.method == 'minmax':\n",
        "            x = x - np.tile(n.min, (n_samples * n_trials, 1)).T\n",
        "            x = x / np.tile(n.max - n.min, (n_samples * n_trials, 1)).T\n",
        "            x = 2 * x - np.ones((n_channels, n_samples * n_trials))\n",
        "\n",
        "        elif n.method == 'z-score':\n",
        "            x = x - np.tile(n.mean, (n_samples * n_trials, 1)).T\n",
        "            x = x / np.tile(n.std, (n_samples * n_trials, 1)).T\n",
        "\n",
        "        else:\n",
        "            print('unknown normalization method')\n",
        "\n",
        "        x = x.reshape(n_channels, n_samples, n_trials)\n",
        "        return x\n",
        "    def train(self,n, x, method):\n",
        "        \"\"\"\n",
        "        training procedure for normalize\n",
        "        computes minima and maxima, or means and standard deviations for \n",
        "        normalization of EEG channels\n",
        "\n",
        "        INPUT:\n",
        "            n       - object of type normalize\n",
        "            x       - m*n*t matrix containing t EEG trials with m channels and \n",
        "                      n samples\n",
        "            method  - either 'minmax' or 'z-score'\n",
        "\n",
        "        OUTPUT:\n",
        "            n       - updated object of type normalize\n",
        "        \"\"\"\n",
        "        n_channels = x.shape[0]\n",
        "        n_samples = x.shape[1]\n",
        "        n_trials = x.shape[2]\n",
        "        x = x.reshape(n_channels, n_samples * n_trials)\n",
        "\n",
        "        if method == 'minmax':\n",
        "            n.min = np.min(x, axis=1)\n",
        "            n.max = np.max(x, axis=1)\n",
        "            n.method = 'minmax'\n",
        "        elif method == 'z-score':\n",
        "            n.mean = np.mean(x, axis=1)\n",
        "            n.std = np.std(x, axis=1)\n",
        "            n.method = 'z-score'\n",
        "        else:\n",
        "            print('unknown normalization method')\n",
        "\n",
        "        return n\n"
      ],
      "metadata": {
        "id": "12LoAjJytvVK"
      },
      "execution_count": 8,
      "outputs": []
    },
    {
      "cell_type": "code",
      "source": [
        "class windsor:\n",
        "    def __init__(self):\n",
        "        # constructor for class windsor\n",
        "        # windsor can be used to \"windsorize\" EEG data\n",
        "\n",
        "        # METHODS:\n",
        "        #       train - computes percentiles of EEG channels\n",
        "        #       apply - clips samples with amplitudes smaller or bigger than\n",
        "        #               previously computed percentiles\n",
        "\n",
        "        # Author: Ulrich Hoffmann - EPFL, 2006\n",
        "\n",
        "        self.limit_l = []  # (lower) percentiles for each EEG channel\n",
        "        self.limit_h = []  # (upper) percentiles for each EEG channel\n",
        "\n",
        "    def apply(self, w, x):\n",
        "        # windsorizes the data in x\n",
        "        # this means that values that are smaller or bigger than the percentile\n",
        "        # values in w.limit_l and w.limit_h are clipped\n",
        "\n",
        "        # INPUT:\n",
        "        #    w       - object of type windsor\n",
        "        #    x       - m*n*t matrix containing t EEG trials with m channels and\n",
        "        #              n samples\n",
        "\n",
        "        # OUTPUT:\n",
        "        #    x       - x windsorized\n",
        "\n",
        "        # Author: Ulrich Hoffmann - EPFL, 2006\n",
        "\n",
        "        ## initialize variables\n",
        "        n_channels = x.shape[0]\n",
        "        n_samples = x.shape[1]\n",
        "        n_trials = x.shape[2]\n",
        "\n",
        "        ## clip the data\n",
        "        x = x.reshape(n_channels, n_samples * n_trials)\n",
        "        w.limit_l=np.array(w.limit_l)\n",
        "        w.limit_h=np.array(w.limit_h)\n",
        "        l = np.tile(w.limit_l.reshape(-1, 1), (1, n_samples * n_trials))\n",
        "        h = np.tile(w.limit_h.reshape(-1, 1), (1, n_samples * n_trials))\n",
        "        i_l = x < l\n",
        "        i_h = x > h\n",
        "        x[i_l] = l[i_l]\n",
        "        x[i_h] = h[i_h]\n",
        "        x = x.reshape(n_channels, n_samples, n_trials)\n",
        "\n",
        "        return x\n",
        "\n",
        "    def train(self, w, x, p):\n",
        "        # computes percentiles for windsorizing\n",
        "\n",
        "        # INPUT:\n",
        "        #    w       - object of type windsor\n",
        "        #    x       - m*n*t matrix containing t EEG trials with m channels and\n",
        "        #              n samples\n",
        "        #    p       - percentage of samples that will be clipped from each channel\n",
        "\n",
        "        # OUTPUT:\n",
        "        #    w       - updated object of type windsor\n",
        "\n",
        "        # Author: Ulrich Hoffmann - EPFL, 2006\n",
        "\n",
        "        ## initialize variables\n",
        "        n_channels = x.shape[0]\n",
        "        n_samples  = x.shape[1]\n",
        "        n_trials   = x.shape[2]\n",
        "        n_clip     = round(n_samples*n_trials*p/2)\n",
        "        x = np.reshape(x, (n_channels, n_samples*n_trials))\n",
        "        w.limit_l = []\n",
        "        w.limit_h = []\n",
        "\n",
        "        ## compute (p/2)th percentiles for each channel\n",
        "        for i in range(n_channels):\n",
        "            tmp = np.sort(x[i,:])\n",
        "            w.limit_l.append(tmp[n_clip])\n",
        "            w.limit_h.append(tmp[-n_clip+1])\n",
        "\n",
        "        return w\n"
      ],
      "metadata": {
        "id": "7YpHUWB-tulV"
      },
      "execution_count": 9,
      "outputs": []
    },
    {
      "cell_type": "markdown",
      "source": [
        "### **Preprocess Single Subject Data**"
      ],
      "metadata": {
        "id": "Rwlckf20cwVr"
      }
    },
    {
      "cell_type": "code",
      "source": [
        "import os\n",
        "import numpy as np\n",
        "from scipy.signal import butter, filtfilt\n",
        "\n",
        "n_targets = 0  # keeps track of number of target trials\n",
        "n_nontargets = 0  # keeps track of nontarget trials\n",
        "\n",
        "# initialize variables\n",
        "\n",
        "srate = 2048  # sampling rate of raw data in Hz\n",
        "reference = [6, 23]  # indices of channels used as reference\n",
        "filterorder = 3\n",
        "filtercutoff = [1/1024, 12/1024]\n",
        "f_b, f_a = scipy.signal.butter(filterorder, filtercutoff ,btype='bandpass')\n",
        "decimation = 64  # downsampling factor\n",
        "n_samples = 32  # number of (temporal) samples in a trial\n",
        "sessions=[]\n",
        "\n",
        "indir='/content/drive/MyDrive/MNE/MNE-epflp300-data/groups/m/mm/mmspg/www/BCI/p300/subject8'\n",
        "for session in os.listdir(indir):\n",
        "  runs = [None] * 6\n",
        "  i=0\n",
        "  sessiondir=os.path.join(indir, session)\n",
        "  for filename in os.listdir(sessiondir):\n",
        "      if not os.path.isdir(os.path.join(sessiondir, filename)):\n",
        "          filename = os.path.join(sessiondir, filename)\n",
        "          f =scipy.io.loadmat(filename)\n",
        "\n",
        "\n",
        "          # \n",
        "          signals = f[\"data\"]\n",
        "          stimuli = f[\"stimuli\"].squeeze()\n",
        "          events = f[\"events\"]\n",
        "          target = f[\"target\"][0][0]\n",
        "          \n",
        "          # meta-info from the readme.pdf\n",
        "\n",
        "          # 1................\n",
        "          # The last X entries are 0 for all signals. This leads to\n",
        "          # artifacts when epoching and band-pass filtering the data.\n",
        "          # Correct the signals for this.\n",
        "          sig_i = np.where(np.diff(np.all(signals == 0, axis=0).astype(int)) != 0)[0][0]\n",
        "          signals = signals[:, :sig_i]\n",
        "\n",
        "          # 2................\n",
        "          # rereference the data\n",
        "          n_channels = f['data'].shape[0]\n",
        "          ref = np.tile(np.mean(f['data'][reference, :], axis=0), (n_channels, 1))\n",
        "          f['data'] = f['data'] - ref\n",
        "\n",
        "          # drop the mastoid channels\n",
        "          f['data'] = f['data'][0:32, :]\n",
        "          n_channels = f['data'].shape[0]\n",
        "\n",
        "          # bandpass filter the data (with a forward-backward filter)\n",
        "          for j in range(n_channels):\n",
        "              f['data'][j, :] = filtfilt(f_b, f_a, f['data'][j, :])\n",
        "\n",
        "          # downsample the data (from 2048 Hz to 64 Hz)\n",
        "          f['data'] = f['data'][:, 0::decimation]\n",
        "\n",
        "          # extract trials\n",
        "          # compute class labels\n",
        "          # put everything in the cell-array runs\n",
        "          n_trials = f['events'].shape[0]\n",
        "          runs[i]={'x': np.zeros((n_channels, n_samples, n_trials)), \n",
        "                        'y': np.zeros(n_trials),\n",
        "                        'stimuli': stimuli,\n",
        "                        'target': target}\n",
        "\n",
        "          # getting the event time in a Python standardized way\n",
        "          events_datetime = []\n",
        "          for eventi in events:\n",
        "              events_datetime.append(\n",
        "                  dt.datetime(*eventi.astype(int), int(eventi[-1] * 1e3) % 1000 * 1000)\n",
        "              )\n",
        "\n",
        "          # get the indices of the stimuli\n",
        "          pos = []\n",
        "          n_trials = len(stimuli)\n",
        "          for j in range(n_trials):\n",
        "              delta_seconds = (events_datetime[j] - events_datetime[0]).total_seconds()\n",
        "              delta_indices = int(delta_seconds * srate/decimation)\n",
        "              # has to add an offset\n",
        "              pos.append(delta_indices + int(0.4 * srate/decimation))\n",
        "\n",
        "          for j in range(n_trials):\n",
        "              runs[i]['x'][:, :, j] = f['data'][:, pos[j]:pos[j]+n_samples]\n",
        "          runs[i]['y'][stimuli == target] = 1\n",
        "          runs[i]['y'][stimuli != target] = -1\n",
        "\n",
        "          xt=runs[i]['x']\n",
        "          w = windsor()\n",
        "          w= w.train(w,xt,0.1)\n",
        "          x = w.apply(w,xt)\n",
        "\n",
        "          n= Normalize()\n",
        "          n= n.train(n,x,'z-score')\n",
        "          x= n.apply(n,x)\n",
        "          runs[i]['x']=x\n",
        "\n",
        "          # update counters\n",
        "          n_targets += np.sum(runs[i]['y'] == 1)\n",
        "          n_nontargets += np.sum(runs[i]['y'] == -1)\n",
        "      i=i+1\n",
        "  sessions.append(runs)\n",
        "\n",
        "print(f'total target trials: {n_targets}')\n",
        "print(f'total nontarget trials: {n_nontargets}')\n"
      ],
      "metadata": {
        "id": "V275o9oryt7S",
        "colab": {
          "base_uri": "https://localhost:8080/"
        },
        "outputId": "cf697d6f-b524-4c50-fe58-8d790569d138"
      },
      "execution_count": 10,
      "outputs": [
        {
          "output_type": "stream",
          "name": "stdout",
          "text": [
            "total target trials: 556\n",
            "total nontarget trials: 2780\n"
          ]
        }
      ]
    },
    {
      "cell_type": "markdown",
      "source": [
        "### **Prepare data to be 2D array (n_channels, n_samples) (32,32) array and outputs to be 0 and 1**"
      ],
      "metadata": {
        "id": "PKWLNeQMdCZM"
      }
    },
    {
      "cell_type": "code",
      "execution_count": 11,
      "metadata": {
        "id": "RwKcbqtLguzS"
      },
      "outputs": [],
      "source": [
        "def Preprocess(sessions):\n",
        "  x_train=[]\n",
        "  y_train=[]\n",
        "\n",
        "  for session in range(3):\n",
        "    for run in range(6):\n",
        "      n_trials=sessions[session][run]['x'].shape[2]\n",
        "      for trial in range(n_trials):\n",
        "        x_train.append(sessions[session][run]['x'][:,:,trial])\n",
        "        if(sessions[session][run]['y'][trial]==1):\n",
        "          y_train.append(1)\n",
        "        else:\n",
        "           y_train.append(0)\n",
        "\n",
        "  x_test =[]\n",
        "  y_test =[]\n",
        "  for run in range(6):\n",
        "      n_trials=sessions[3][run]['x'].shape[2]\n",
        "      for trial in range(n_trials):\n",
        "        x_test.append(sessions[3][run]['x'][:,:,trial])\n",
        "        if(sessions[3][run]['y'][trial]==1):\n",
        "          y_test.append(1)\n",
        "        else:\n",
        "          y_test.append(0)\n",
        "  return x_train,y_train, x_test ,y_test"
      ]
    },
    {
      "cell_type": "code",
      "execution_count": 12,
      "metadata": {
        "id": "jkvVoMYtrM4i"
      },
      "outputs": [],
      "source": [
        "x_train,y_train, x_test ,y_test=Preprocess(sessions)"
      ]
    },
    {
      "cell_type": "markdown",
      "source": [
        "### **Train DL EEGNet Model**"
      ],
      "metadata": {
        "id": "Br5C4O-ldbjD"
      }
    },
    {
      "cell_type": "code",
      "source": [
        "import numpy as np\n",
        "import tensorflow as tf\n",
        "from tensorflow.keras import layers, models\n",
        "from tensorflow.keras.constraints import max_norm\n",
        "\n",
        "def EEGNet(nb_classes, Chans=32, Samples=32):\n",
        "    # Define the input shape\n",
        "    input_shape = (Chans, Samples, 1)\n",
        "\n",
        "    # Define the model architecture\n",
        "    input_layer = layers.Input(shape=input_shape)\n",
        "\n",
        "    block1 = layers.Conv2D(16, (1, 32), padding='same', input_shape=input_shape)(input_layer)\n",
        "    block1 = layers.BatchNormalization()(block1)\n",
        "    block1 = layers.DepthwiseConv2D((Chans, 1), use_bias=False, depth_multiplier=2, depthwise_constraint=max_norm(1.))(block1)\n",
        "    block1 = layers.BatchNormalization()(block1)\n",
        "    block1 = layers.Activation('elu')(block1)\n",
        "    block1 = layers.SeparableConv2D(32, (1, 4), use_bias=False, padding='same')(block1)\n",
        "    block1 = layers.BatchNormalization()(block1)\n",
        "    block1 = layers.Activation('elu')(block1)\n",
        "    block1 = layers.MaxPooling2D((1, 4))(block1)\n",
        "    block1 = layers.Dropout(0.25)(block1)\n",
        "\n",
        "    block2 = layers.DepthwiseConv2D((1, 4), use_bias=False, depth_multiplier=2, depthwise_constraint=max_norm(1.))(block1)\n",
        "    block2 = layers.BatchNormalization()(block2)\n",
        "    block2 = layers.Activation('elu')(block2)\n",
        "    block2 = layers.SeparableConv2D(64, (1, 4), use_bias=False, padding='same')(block2)\n",
        "    block2 = layers.BatchNormalization()(block2)\n",
        "    block2 = layers.Activation('elu')(block2)\n",
        "    block2 = layers.MaxPooling2D((1, 2))(block2)\n",
        "    block2 = layers.Dropout(0.25)(block2)\n",
        "\n",
        "    flatten = layers.Flatten()(block2)\n",
        "\n",
        "    dense = layers.Dense(256, activation='elu')(flatten)\n",
        "    dense = layers.Dropout(0.5)(dense)\n",
        "\n",
        "    output_layer = layers.Dense(1, activation='sigmoid')(dense)\n",
        "\n",
        "    # Compile the model\n",
        "    model = models.Model(inputs=input_layer, outputs=output_layer)\n",
        "    model.compile(loss='binary_crossentropy', optimizer='adam', metrics=['accuracy'])\n",
        "\n",
        "    return model"
      ],
      "metadata": {
        "id": "v5ANRWiN4ImX"
      },
      "execution_count": 13,
      "outputs": []
    },
    {
      "cell_type": "code",
      "source": [
        "import math\n",
        "from sklearn.metrics import confusion_matrix\n",
        "\n",
        "# # Train the model\n",
        "model = EEGNet(nb_classes=1)\n",
        "history = model.fit(np.array(x_train), np.array(y_train), epochs=50, batch_size=16, validation_data=(np.array(x_test), np.array(y_test)))\n",
        "\n",
        "# # Evaluate the model on the test set\n",
        "# score = model.evaluate(np.array(x_test), np.array(y_test), verbose=0)\n",
        "\n",
        "# print('Test loss:', score[0])\n",
        "# print('Test accuracy:', score[1])\n",
        "# cm = confusion_matrix(y_test,predictions,labels=[2,1])\n",
        "# print(cm)\n",
        "# print(\"______________________________________________\")"
      ],
      "metadata": {
        "colab": {
          "base_uri": "https://localhost:8080/"
        },
        "id": "lP477eUjzyvv",
        "outputId": "d2866a0f-278a-4ccf-84a6-bfc19f69d49c"
      },
      "execution_count": 14,
      "outputs": [
        {
          "output_type": "stream",
          "name": "stdout",
          "text": [
            "Epoch 1/50\n",
            "158/158 [==============================] - 11s 49ms/step - loss: 0.5212 - accuracy: 0.8048 - val_loss: 0.5809 - val_accuracy: 0.8333\n",
            "Epoch 2/50\n",
            "158/158 [==============================] - 5s 32ms/step - loss: 0.4076 - accuracy: 0.8325 - val_loss: 0.4165 - val_accuracy: 0.8407\n",
            "Epoch 3/50\n",
            "158/158 [==============================] - 7s 47ms/step - loss: 0.3135 - accuracy: 0.8729 - val_loss: 0.3617 - val_accuracy: 0.8679\n",
            "Epoch 4/50\n",
            "158/158 [==============================] - 9s 54ms/step - loss: 0.2896 - accuracy: 0.8880 - val_loss: 0.3319 - val_accuracy: 0.8593\n",
            "Epoch 5/50\n",
            "158/158 [==============================] - 7s 46ms/step - loss: 0.2445 - accuracy: 0.9058 - val_loss: 0.3320 - val_accuracy: 0.8642\n",
            "Epoch 6/50\n",
            "158/158 [==============================] - 6s 37ms/step - loss: 0.2262 - accuracy: 0.9105 - val_loss: 0.2917 - val_accuracy: 0.8914\n",
            "Epoch 7/50\n",
            "158/158 [==============================] - 5s 33ms/step - loss: 0.1868 - accuracy: 0.9252 - val_loss: 0.3159 - val_accuracy: 0.8914\n",
            "Epoch 8/50\n",
            "158/158 [==============================] - 8s 49ms/step - loss: 0.1679 - accuracy: 0.9367 - val_loss: 0.2911 - val_accuracy: 0.8914\n",
            "Epoch 9/50\n",
            "158/158 [==============================] - 7s 44ms/step - loss: 0.1697 - accuracy: 0.9351 - val_loss: 0.2798 - val_accuracy: 0.8951\n",
            "Epoch 10/50\n",
            "158/158 [==============================] - 11s 68ms/step - loss: 0.1558 - accuracy: 0.9386 - val_loss: 0.2719 - val_accuracy: 0.9074\n",
            "Epoch 11/50\n",
            "158/158 [==============================] - 10s 60ms/step - loss: 0.1334 - accuracy: 0.9458 - val_loss: 0.3029 - val_accuracy: 0.8975\n",
            "Epoch 12/50\n",
            "158/158 [==============================] - 8s 51ms/step - loss: 0.1165 - accuracy: 0.9553 - val_loss: 0.3078 - val_accuracy: 0.9086\n",
            "Epoch 13/50\n",
            "158/158 [==============================] - 5s 33ms/step - loss: 0.1225 - accuracy: 0.9485 - val_loss: 0.2923 - val_accuracy: 0.9037\n",
            "Epoch 14/50\n",
            "158/158 [==============================] - 6s 40ms/step - loss: 0.0934 - accuracy: 0.9671 - val_loss: 0.3521 - val_accuracy: 0.8975\n",
            "Epoch 15/50\n",
            "158/158 [==============================] - 6s 37ms/step - loss: 0.0975 - accuracy: 0.9671 - val_loss: 0.3191 - val_accuracy: 0.9049\n",
            "Epoch 16/50\n",
            "158/158 [==============================] - 5s 32ms/step - loss: 0.0975 - accuracy: 0.9616 - val_loss: 0.3088 - val_accuracy: 0.9185\n",
            "Epoch 17/50\n",
            "158/158 [==============================] - 7s 45ms/step - loss: 0.0849 - accuracy: 0.9675 - val_loss: 0.3445 - val_accuracy: 0.8963\n",
            "Epoch 18/50\n",
            "158/158 [==============================] - 5s 31ms/step - loss: 0.0897 - accuracy: 0.9652 - val_loss: 0.3429 - val_accuracy: 0.8938\n",
            "Epoch 19/50\n",
            "158/158 [==============================] - 5s 31ms/step - loss: 0.0776 - accuracy: 0.9723 - val_loss: 0.3522 - val_accuracy: 0.8988\n",
            "Epoch 20/50\n",
            "158/158 [==============================] - 9s 57ms/step - loss: 0.0668 - accuracy: 0.9759 - val_loss: 0.3687 - val_accuracy: 0.9049\n",
            "Epoch 21/50\n",
            "158/158 [==============================] - 6s 37ms/step - loss: 0.0616 - accuracy: 0.9822 - val_loss: 0.3741 - val_accuracy: 0.8951\n",
            "Epoch 22/50\n",
            "158/158 [==============================] - 11s 67ms/step - loss: 0.0811 - accuracy: 0.9711 - val_loss: 0.3655 - val_accuracy: 0.9012\n",
            "Epoch 23/50\n",
            "158/158 [==============================] - 10s 66ms/step - loss: 0.0577 - accuracy: 0.9810 - val_loss: 0.3417 - val_accuracy: 0.9074\n",
            "Epoch 24/50\n",
            "158/158 [==============================] - 12s 75ms/step - loss: 0.0603 - accuracy: 0.9762 - val_loss: 0.3506 - val_accuracy: 0.9123\n",
            "Epoch 25/50\n",
            "158/158 [==============================] - 12s 74ms/step - loss: 0.0601 - accuracy: 0.9782 - val_loss: 0.3890 - val_accuracy: 0.9025\n",
            "Epoch 26/50\n",
            "158/158 [==============================] - 10s 64ms/step - loss: 0.0663 - accuracy: 0.9739 - val_loss: 0.3557 - val_accuracy: 0.9049\n",
            "Epoch 27/50\n",
            "158/158 [==============================] - 9s 55ms/step - loss: 0.0527 - accuracy: 0.9778 - val_loss: 0.4289 - val_accuracy: 0.8889\n",
            "Epoch 28/50\n",
            "158/158 [==============================] - 9s 54ms/step - loss: 0.0628 - accuracy: 0.9747 - val_loss: 0.3933 - val_accuracy: 0.9062\n",
            "Epoch 29/50\n",
            "158/158 [==============================] - 8s 53ms/step - loss: 0.0529 - accuracy: 0.9818 - val_loss: 0.3745 - val_accuracy: 0.8901\n",
            "Epoch 30/50\n",
            "158/158 [==============================] - 8s 51ms/step - loss: 0.0481 - accuracy: 0.9810 - val_loss: 0.4175 - val_accuracy: 0.9074\n",
            "Epoch 31/50\n",
            "158/158 [==============================] - 8s 48ms/step - loss: 0.0496 - accuracy: 0.9830 - val_loss: 0.4122 - val_accuracy: 0.8975\n",
            "Epoch 32/50\n",
            "158/158 [==============================] - 10s 61ms/step - loss: 0.0369 - accuracy: 0.9865 - val_loss: 0.4183 - val_accuracy: 0.9012\n",
            "Epoch 33/50\n",
            "158/158 [==============================] - 9s 59ms/step - loss: 0.0446 - accuracy: 0.9822 - val_loss: 0.4447 - val_accuracy: 0.9000\n",
            "Epoch 34/50\n",
            "158/158 [==============================] - 5s 33ms/step - loss: 0.0447 - accuracy: 0.9802 - val_loss: 0.4821 - val_accuracy: 0.8914\n",
            "Epoch 35/50\n",
            "158/158 [==============================] - 7s 46ms/step - loss: 0.0441 - accuracy: 0.9854 - val_loss: 0.4503 - val_accuracy: 0.8963\n",
            "Epoch 36/50\n",
            "158/158 [==============================] - 6s 35ms/step - loss: 0.0401 - accuracy: 0.9834 - val_loss: 0.4252 - val_accuracy: 0.9136\n",
            "Epoch 37/50\n",
            "158/158 [==============================] - 6s 38ms/step - loss: 0.0403 - accuracy: 0.9846 - val_loss: 0.4272 - val_accuracy: 0.9000\n",
            "Epoch 38/50\n",
            "158/158 [==============================] - 6s 39ms/step - loss: 0.0373 - accuracy: 0.9822 - val_loss: 0.4611 - val_accuracy: 0.9012\n",
            "Epoch 39/50\n",
            "158/158 [==============================] - 5s 32ms/step - loss: 0.0375 - accuracy: 0.9861 - val_loss: 0.4414 - val_accuracy: 0.9099\n",
            "Epoch 40/50\n",
            "158/158 [==============================] - 11s 72ms/step - loss: 0.0419 - accuracy: 0.9865 - val_loss: 0.4372 - val_accuracy: 0.8975\n",
            "Epoch 41/50\n",
            "158/158 [==============================] - 9s 54ms/step - loss: 0.0281 - accuracy: 0.9921 - val_loss: 0.5076 - val_accuracy: 0.9037\n",
            "Epoch 42/50\n",
            "158/158 [==============================] - 8s 54ms/step - loss: 0.0293 - accuracy: 0.9901 - val_loss: 0.4822 - val_accuracy: 0.9062\n",
            "Epoch 43/50\n",
            "158/158 [==============================] - 9s 54ms/step - loss: 0.0292 - accuracy: 0.9881 - val_loss: 0.4241 - val_accuracy: 0.9037\n",
            "Epoch 44/50\n",
            "158/158 [==============================] - 10s 64ms/step - loss: 0.0380 - accuracy: 0.9865 - val_loss: 0.5100 - val_accuracy: 0.8975\n",
            "Epoch 45/50\n",
            "158/158 [==============================] - 6s 40ms/step - loss: 0.0299 - accuracy: 0.9893 - val_loss: 0.5047 - val_accuracy: 0.9123\n",
            "Epoch 46/50\n",
            "158/158 [==============================] - 10s 66ms/step - loss: 0.0242 - accuracy: 0.9921 - val_loss: 0.5553 - val_accuracy: 0.9099\n",
            "Epoch 47/50\n",
            "158/158 [==============================] - 8s 53ms/step - loss: 0.0352 - accuracy: 0.9889 - val_loss: 0.5129 - val_accuracy: 0.8988\n",
            "Epoch 48/50\n",
            "158/158 [==============================] - 10s 63ms/step - loss: 0.0302 - accuracy: 0.9881 - val_loss: 0.5098 - val_accuracy: 0.8926\n",
            "Epoch 49/50\n",
            "158/158 [==============================] - 7s 43ms/step - loss: 0.0337 - accuracy: 0.9881 - val_loss: 0.4964 - val_accuracy: 0.9012\n",
            "Epoch 50/50\n",
            "158/158 [==============================] - 9s 56ms/step - loss: 0.0201 - accuracy: 0.9945 - val_loss: 0.5361 - val_accuracy: 0.8975\n"
          ]
        }
      ]
    },
    {
      "cell_type": "code",
      "source": [
        "import seaborn as sns\n",
        "def plot_confusion_matrix(x,y,model):\n",
        "  Y_pred = model.predict(x)\n",
        "  Y_pred_classes = Y_pred.round()\n",
        "  confusion_mtx = confusion_matrix(y, Y_pred_classes) \n",
        "  f,ax = plt.subplots(figsize=(8, 8))\n",
        "  sns.heatmap(confusion_mtx, annot=True, linewidths=0.01,cmap=\"Greens\",linecolor=\"gray\", fmt= '.1f',ax=ax)\n",
        "  plt.xlabel(\"Predicted Label\")\n",
        "  plt.ylabel(\"True Label\")\n",
        "  plt.title(\"Confusion Matrix\")\n",
        "  plt.show()"
      ],
      "metadata": {
        "id": "4t3flEg3dVTW"
      },
      "execution_count": 15,
      "outputs": []
    },
    {
      "cell_type": "code",
      "source": [
        "plot_confusion_matrix(np.array(x_test),np.array(y_test),model)"
      ],
      "metadata": {
        "id": "zZgS6mAbd_9q",
        "outputId": "3dbdf9e7-2897-46fb-a4ac-e35870722e2e",
        "colab": {
          "base_uri": "https://localhost:8080/",
          "height": 535
        }
      },
      "execution_count": 16,
      "outputs": [
        {
          "output_type": "stream",
          "name": "stdout",
          "text": [
            "26/26 [==============================] - 1s 16ms/step\n"
          ]
        },
        {
          "output_type": "display_data",
          "data": {
            "text/plain": [
              "<Figure size 576x576 with 2 Axes>"
            ],
            "image/png": "[encoded data removed]"
          },
          "metadata": {}
        }
      ]
    },
    {
      "cell_type": "markdown",
      "source": [
        "### **This is the same preprocessing cell, Bult altered a little bit to represent single trail as a 1D feature vector for ML models**"
      ],
      "metadata": {
        "id": "hqwwT1hBe2N_"
      }
    },
    {
      "cell_type": "code",
      "execution_count": 17,
      "metadata": {
        "id": "xwk5kURBbvtV"
      },
      "outputs": [],
      "source": [
        "def Preprocess(sessions):\n",
        "  x_train=[]\n",
        "  y_train=[]\n",
        "\n",
        "  for session in range(3):\n",
        "    for run in range(6):\n",
        "      n_trials=sessions[session][run]['x'].shape[2]\n",
        "      for trial in range(n_trials):\n",
        "        featureVector=[]\n",
        "        for i in range(32):\n",
        "          featureVector.extend(sessions[session][run]['x'][:,i,trial])\n",
        "        x_train.append(featureVector)\n",
        "        y_train.append(sessions[session][run]['y'][trial])\n",
        "\n",
        "  x_test =[]\n",
        "  y_test =[]\n",
        "  for run in range(6):\n",
        "      n_trials=sessions[3][run]['x'].shape[2]\n",
        "      for trial in range(n_trials):\n",
        "        featureVector=[]\n",
        "        for i in range(32):\n",
        "          featureVector.extend(sessions[3][run]['x'][:,i,trial])\n",
        "        x_test.append(featureVector)\n",
        "        y_test.append(sessions[3][run]['y'][trial])\n",
        "  return x_train,y_train, x_test ,y_test"
      ]
    },
    {
      "cell_type": "code",
      "execution_count": 18,
      "metadata": {
        "id": "uTb0Cb-_fzEe"
      },
      "outputs": [],
      "source": [
        "x_train,y_train, x_test ,y_test=Preprocess(sessions)"
      ]
    },
    {
      "cell_type": "code",
      "source": [
        "YTrain=[]\n",
        "for i in y_train:\n",
        "  if(i==1.0):\n",
        "    YTrain.append(2)\n",
        "  else:\n",
        "    YTrain.append(1)"
      ],
      "metadata": {
        "id": "ZjT6jCPDzdMI"
      },
      "execution_count": 19,
      "outputs": []
    },
    {
      "cell_type": "code",
      "source": [
        "YTest=[]\n",
        "for i in y_test:\n",
        "  if(i==1.0):\n",
        "    YTest.append(2)\n",
        "  else:\n",
        "    YTest.append(1)"
      ],
      "metadata": {
        "id": "Yv97_J3wdtgA"
      },
      "execution_count": 20,
      "outputs": []
    },
    {
      "cell_type": "markdown",
      "source": [
        "### **Training SVM**"
      ],
      "metadata": {
        "id": "SRcooVi_fqDO"
      }
    },
    {
      "cell_type": "code",
      "execution_count": 26,
      "metadata": {
        "id": "xD31tMg5jGjZ",
        "colab": {
          "base_uri": "https://localhost:8080/"
        },
        "outputId": "b9434547-c376-4452-d1dd-20450dc7d441"
      },
      "outputs": [
        {
          "output_type": "stream",
          "name": "stdout",
          "text": [
            "preparing Subject  8  Data.......\n",
            "8 accuracy score  0.8851851851851852\n"
          ]
        }
      ],
      "source": [
        "subjectNumber=8\n",
        "print(\"preparing Subject \",subjectNumber , \" Data.......\")\n",
        "clf = svm.SVC()\n",
        "clf.fit(x_train,YTrain)\n",
        "predictions =clf.predict(x_test)\n",
        "print(subjectNumber , \"accuracy score \" , accuracy_score(predictions , YTest))"
      ]
    },
    {
      "cell_type": "code",
      "source": [
        "plot_confusion_matrix(np.array(x_test),np.array(YTest),clf)"
      ],
      "metadata": {
        "id": "LWtzW-XpgDKf",
        "outputId": "f0d0eadd-17fe-475c-aa8d-4597fbaa5383",
        "colab": {
          "base_uri": "https://localhost:8080/",
          "height": 518
        }
      },
      "execution_count": 27,
      "outputs": [
        {
          "output_type": "display_data",
          "data": {
            "text/plain": [
              "<Figure size 576x576 with 2 Axes>"
            ],
            "image/png": "[encoded data removed]"
          },
          "metadata": {}
        }
      ]
    },
    {
      "cell_type": "code",
      "source": [
        "from sklearn.discriminant_analysis import LinearDiscriminantAnalysis\n",
        "\n",
        "blda = LinearDiscriminantAnalysis()\n",
        "blda.fit(x_train,YTrain)\n",
        "preditions =blda.predict(x_test)\n",
        "print(subjectNumber , \"accuracy score \" , accuracy_score(preditions , YTest))"
      ],
      "metadata": {
        "id": "u43d-NwzTqgG",
        "outputId": "885b50ad-7a67-42b9-b8f0-13cd5f1818d8",
        "colab": {
          "base_uri": "https://localhost:8080/"
        }
      },
      "execution_count": 30,
      "outputs": [
        {
          "output_type": "stream",
          "name": "stdout",
          "text": [
            "8 accuracy score  0.8888888888888888\n"
          ]
        }
      ]
    },
    {
      "cell_type": "code",
      "source": [
        "plot_confusion_matrix(np.array(x_test),np.array(YTest),blda)"
      ],
      "metadata": {
        "id": "t4buvUm3gXRz",
        "outputId": "c0a50a6f-6b28-447e-f7ee-11eb618ec383",
        "colab": {
          "base_uri": "https://localhost:8080/",
          "height": 518
        }
      },
      "execution_count": 31,
      "outputs": [
        {
          "output_type": "display_data",
          "data": {
            "text/plain": [
              "<Figure size 576x576 with 2 Axes>"
            ],
            "image/png": "[encoded data removed]"
          },
          "metadata": {}
        }
      ]
    },
    {
      "cell_type": "markdown",
      "source": [
        "### **This is an unused cell. it could be used, it couldn't, we do not know**"
      ],
      "metadata": {
        "id": "xgSjfmdmeTf0"
      }
    },
    {
      "cell_type": "code",
      "source": [
        "class bayeslda:\n",
        "    def __init__(self, verbose=False):\n",
        "        # set verbose flag\n",
        "        self.verbose = verbose  # if set train gives verbose output\n",
        "\n",
        "        # define attributes of object\n",
        "        self.evidence = 0  # log evidence\n",
        "        self.beta = 0  # inverse variance of noise\n",
        "        self.alpha = 0  # inverse variance of prior\n",
        "        self.w = []  # weight vector (mean of posterior)\n",
        "        self.p = []  # precision matrix of posterior\n",
        "\n",
        "    # METHODS\n",
        "    def train(b, x, y):\n",
        "        \"\"\"\n",
        "        Training procedure for Bayesian LDA\n",
        "        \n",
        "        INPUT:\n",
        "            b: object of type bayeslda\n",
        "            x: m*n matrix containing n feature vectors of size m*1\n",
        "            y: 1*n matrix containing class labels (-1,1)\n",
        "        \n",
        "        OUTPUT:\n",
        "            b: updated object of type bayeslda\n",
        "        \"\"\"\n",
        "        n_posexamples = sum(y==1)\n",
        "        n_negexamples = sum(y==-1)\n",
        "        n_examples = n_posexamples + n_negexamples\n",
        "        y[y==1] = n_examples/n_posexamples\n",
        "        y[y==-1] = -n_examples/n_negexamples\n",
        "\n",
        "        x = np.vstack([x, np.ones((1, x.shape[1]))]) # stack ones row to x\n",
        "\n",
        "        n_features = x.shape[0] # dimension of feature vectors \n",
        "        d_beta = np.inf # (initial) diff. between new and old beta  \n",
        "        d_alpha = np.inf # (initial) diff. between new and old alpha \n",
        "        alpha = 25 # (initial) inverse variance of prior distribution\n",
        "        biasalpha = 0.00000001 # (initial) inverse variance of prior for bias term\n",
        "        beta = 1 # (initial) inverse variance around targets\n",
        "        stopeps = 0.0001 # desired precision for alpha and beta\n",
        "        i = 1 # keeps track of number of iterations\n",
        "        maxit = 500 # maximal number of iterations \n",
        "        v, d = np.linalg.eig(np.dot(x, x.T)) # needed for fast estimation of alpha and beta  \n",
        "        vxy = np.dot(v.T, np.dot(x, y.T)) # dito\n",
        "        d = np.diag(d) # dito\n",
        "        e = np.ones((n_features-1,1)) # dito\n",
        "\n",
        "        while ((d_alpha > stopeps) or (d_beta > stopeps)) and (i < maxit):\n",
        "            alphaold = alpha\n",
        "            betaold = beta\n",
        "            m = beta * v * (beta * d + np.vstack([alpha * e, biasalpha]) ** (-1) * vxy)\n",
        "            err = np.sum((y - np.dot(m.T, x)) ** 2)\n",
        "            gamma = np.sum(beta * d / (beta * d + np.vstack([alpha * e, biasalpha])))\n",
        "            alpha = gamma / np.dot(m.T, m)\n",
        "            beta = (n_examples - gamma) / err\n",
        "            if b.verbose:\n",
        "                print(f\"Iteration {i}: alpha = {alpha}, beta = {beta}\")\n",
        "            d_alpha = np.abs(alpha - alphaold)\n",
        "            d_beta = np.abs(beta - betaold)\n",
        "            i += 1\n",
        "\n",
        "        if i < maxit:\n",
        "            # (see MacKays paper)\n",
        "            b.evidence = (n_features / 2) * np.log(alpha) + (n_examples / 2) * np.log(beta) - \\\n",
        "                (beta / 2) * err - (alpha / 2) * np.dot(m.T, m) - \\\n",
        "                0.5 * np.sum(np.log((beta * d + np.vstack([alpha * e, biasalpha])))) - (n_examples / 2) * np.log(2 * np.pi)\n",
        "\n",
        "            b.alpha = alpha\n",
        "            b.beta = beta\n",
        "            b.w = m\n",
        "            b.p = np.dot(v, np.diag((beta * d + np.vstack([alpha * e, biasalpha])) ** (-1))) @ v.T\n",
        "\n",
        "            if b.verbose:\n",
        "                print(\"Optimization of alpha and beta successful.\")\n",
        "                print(f\"The logevidence is {b.evidence}.\")\n",
        "\n",
        "        else:\n",
        "            print(f\"Optimization of alpha and beta did not converge after {maxit} iterations.\")\n",
        "            print(\"Giving up.\")\n",
        "\n",
        "\n",
        "    def classify(self, x):\n",
        "        pass\n",
        "\n",
        "    def getevidence(self):\n",
        "        pass\n"
      ],
      "metadata": {
        "id": "B8jOF0Xg0teL"
      },
      "execution_count": null,
      "outputs": []
    }
  ]
}