{
  "nbformat": 4,
  "nbformat_minor": 0,
  "metadata": {
    "colab": {
      "provenance": [],
      "include_colab_link": true
    },
    "kernelspec": {
      "name": "python3",
      "display_name": "Python 3"
    },
    "language_info": {
      "name": "python"
    }
  },
  "cells": [
    {
      "cell_type": "markdown",
      "metadata": {
        "id": "view-in-github",
        "colab_type": "text"
      },
      "source": [
        "<a href=\"https://colab.research.google.com/github/norhan333/NeuroPhone-RealTime-BrainMobilePhone-Interface/blob/main/model/EPFL_Data.ipynb\" target=\"_parent\"><img src=\"https://colab.research.google.com/assets/colab-badge.svg\" alt=\"Open In Colab\"/></a>"
      ]
    },
    {
      "cell_type": "code",
      "execution_count": 1,
      "metadata": {
        "id": "i8e_BQA70TeX",
        "outputId": "a53c6f9d-b26e-4199-9638-c14c084c71c8",
        "colab": {
          "base_uri": "https://localhost:8080/"
        }
      },
      "outputs": [
        {
          "output_type": "execute_result",
          "data": {
            "text/plain": [
              "[]"
            ]
          },
          "metadata": {},
          "execution_count": 1
        }
      ],
      "source": [
        "!!pip install -q MOABB"
      ]
    },
    {
      "cell_type": "code",
      "source": [
        "import numpy as np\n",
        "import scipy.signal\n",
        "import scipy.io as sio\n",
        "import matplotlib\n",
        "from matplotlib import pyplot as plt\n",
        "from sklearn.discriminant_analysis import LinearDiscriminantAnalysis as LDA\n",
        "from sklearn.model_selection import GridSearchCV\n",
        "from sklearn.pipeline import make_pipeline\n",
        "from sklearn.svm import SVC"
      ],
      "metadata": {
        "id": "ssYTw8Yy-B9W"
      },
      "execution_count": 1,
      "outputs": []
    },
    {
      "cell_type": "code",
      "source": [
        "import moabb\n",
        "from moabb.datasets import EPFLP300, utils\n",
        "from moabb.evaluations import CrossSessionEvaluation\n",
        "from moabb.paradigms import LeftRightImagery\n",
        "from moabb.pipelines.features import LogVariance\n",
        "from mne.filter import construct_iir_filter\n",
        "moabb.set_log_level(\"info\")\n"
      ],
      "metadata": {
        "id": "w7orvxzmBVsf"
      },
      "execution_count": 2,
      "outputs": []
    },
    {
      "cell_type": "code",
      "source": [
        "def getData(subjectNumbers,dataset=EPFLP300()):\n",
        "  return dataset.get_data(subjectNumbers)"
      ],
      "metadata": {
        "id": "_m3sM_PmJpBn"
      },
      "execution_count": 3,
      "outputs": []
    },
    {
      "cell_type": "code",
      "source": [
        "def getSubjectData(subjectNumber,session_number,run_number):\n",
        "  session = f'session_{session_number}'\n",
        "  run = f'run_{run_number}'\n",
        "  return getData([subjectNumber])[subjectNumber][session][run]"
      ],
      "metadata": {
        "id": "khYPS4GnMkmX"
      },
      "execution_count": 4,
      "outputs": []
    },
    {
      "cell_type": "code",
      "source": [
        "def filterData(data,lp=12,hp=1,sf=2048,resample=32):\n",
        "  iir_params = dict(order=4, ftype='butter', output='sos')  \n",
        "  iir_params = construct_iir_filter(iir_params, [hp,lp], None, sf, 'bandpass', return_copy=False)\n",
        "  data.filter(method='iir',iir_params=iir_params,h_freq=hp,l_freq=lp)\n",
        "  return data"
      ],
      "metadata": {
        "id": "NxyA25hjELjg"
      },
      "execution_count": 5,
      "outputs": []
    },
    {
      "cell_type": "code",
      "source": [
        "lp=12;hp=1;sf=2048;resample=32\n",
        "iir_params = dict(order=4, ftype='butter', output='sos')  \n",
        "iir_params = construct_iir_filter(iir_params, [hp,lp], None, sf, 'bandpass', return_copy=False)\n",
        "data=getSubjectData(1,1,1)\n",
        "data\n",
        "# x=data.filter(method='iir',iir_params=iir_params,h_freq=hp,l_freq=lp)\n",
        "# x"
      ],
      "metadata": {
        "id": "lM-wL0gWJ8y-"
      },
      "execution_count": null,
      "outputs": []
    },
    {
      "cell_type": "code",
      "source": [
        "subjects={}\n",
        "for subjectNumber in range(1,9):\n",
        "  sessions={}\n",
        "  for sessionNumber in range(1,5):\n",
        "    runs={}\n",
        "    for runNumber in range(1,7):\n",
        "      data = getSubjectData(subjectNumber,sessionNumber,runNumber)\n",
        "      data = filterData(data)\n",
        "      runs[runNumber]=data.resample(32)\n",
        "      #todo normalization\n",
        "    sessions[sessionNumber]=runs\n",
        "  subjects[subjectNumber]=sessions"
      ],
      "metadata": {
        "id": "HG96M3WPGJBa"
      },
      "execution_count": 16,
      "outputs": []
    },
    {
      "cell_type": "code",
      "source": [
        "subjects[1][1][1]"
      ],
      "metadata": {
        "id": "RHACKLtRIaJf"
      },
      "execution_count": null,
      "outputs": []
    },
    {
      "cell_type": "code",
      "source": [
        "def bandPassFilter(data, sampligFrequency, lowFrequency, highFrequency, order):\n",
        "  sos=scipy.signal.butter(order, Wn=[lowFrequency,highFrequency],btype='bandpass', fs=sampligFrequency, output='sos')\n",
        "  filteredData = scipy.signal.sosfilt(sos, data)\n",
        " #plotting\n",
        "  t = np.linspace(0, 1, 114687 , False)  # 1 second\n",
        "  fig, (ax1, ax2) = plt.subplots(2, 1, sharex=True)\n",
        "  ax1.plot(t, filteredData)\n",
        "  ax1.set_title('10 Hz and 20 Hz sinusoids')\n",
        "  ax1.axis([0, 1,1, 20])\n",
        "\n",
        "  ax2.plot(t, filteredData)\n",
        "  ax2.set_title('After 15 Hz high-pass filter')\n",
        "  ax2.axis([0, 1,1, 20])\n",
        "  ax2.set_xlabel('Time [seconds]')\n",
        "  plt.tight_layout()\n",
        "  plt.show()\n",
        "  return filteredData"
      ],
      "metadata": {
        "id": "eSyouM_gS0r6"
      },
      "execution_count": 11,
      "outputs": []
    }
  ]
}